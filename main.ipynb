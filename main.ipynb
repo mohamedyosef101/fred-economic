{
 "cells": [
  {
   "cell_type": "markdown",
   "metadata": {},
   "source": [
    "<img src=\"https://fred.stlouisfed.org/images/fred-masthead-mobile-2x.png\">\n",
    "\n",
    "# Economic Data Analysis with Fred\n",
    "Fred is an economic data website which include a varity of data sources; it's all time series data, financial, and economic data. Beside, they have their own API so there is no need to scrap the website or download csv.\n",
    "\n",
    "\n",
    "**For now**, I don't know what I going to do yet, but I'm exploring the abilities of Fred and its data.\n",
    "\n",
    "<br>"
   ]
  },
  {
   "cell_type": "code",
   "execution_count": 1,
   "metadata": {},
   "outputs": [],
   "source": [
    "# import the essential python libraries\n",
    "import pandas as pd\n",
    "import numpy as np\n",
    "import matplotlib.pyplot as plt\n",
    "import seaborn as sns"
   ]
  },
  {
   "cell_type": "markdown",
   "metadata": {},
   "source": [
    "# Step 0: Set the API\n",
    "To get my api key, I need to go to [Rred API Keys](https://fred.stlouisfed.org/docs/api/api_key.html) and request an API Key.\n",
    "\n",
    "And to request this key, I need to: \n",
    "1. Register a Fred account using my Google one.\n",
    "2. Enter a simple message explaining what I'm going to do with the API Key.\n",
    "3. Finally, accept the Fred rules.\n",
    "\n",
    "<br>"
   ]
  },
  {
   "cell_type": "markdown",
   "metadata": {},
   "source": [
    "**NOTE** if you're following along, you'll need to download fredapi first. And to do that use this: \n",
    "\n",
    "```python\n",
    "!pip install fredapi\n",
    "``` "
   ]
  },
  {
   "cell_type": "code",
   "execution_count": 2,
   "metadata": {},
   "outputs": [
    {
     "ename": "TypeError",
     "evalue": "Config.__init__() missing 1 required positional argument: 'repository'",
     "output_type": "error",
     "traceback": [
      "\u001b[1;31m---------------------------------------------------------------------------\u001b[0m",
      "\u001b[1;31mTypeError\u001b[0m                                 Traceback (most recent call last)",
      "\u001b[1;32me:\\Projects\\Data Science\\Economic data\\main.ipynb Cell 5\u001b[0m line \u001b[0;36m7\n\u001b[0;32m      <a href='vscode-notebook-cell:/e%3A/Projects/Data%20Science/Economic%20data/main.ipynb#W4sZmlsZQ%3D%3D?line=4'>5</a>\u001b[0m \u001b[39m# and let's get my secret api key\u001b[39;00m\n\u001b[0;32m      <a href='vscode-notebook-cell:/e%3A/Projects/Data%20Science/Economic%20data/main.ipynb#W4sZmlsZQ%3D%3D?line=5'>6</a>\u001b[0m \u001b[39mfrom\u001b[39;00m \u001b[39mdecouple\u001b[39;00m \u001b[39mimport\u001b[39;00m Config, Csv\n\u001b[1;32m----> <a href='vscode-notebook-cell:/e%3A/Projects/Data%20Science/Economic%20data/main.ipynb#W4sZmlsZQ%3D%3D?line=6'>7</a>\u001b[0m config \u001b[39m=\u001b[39m Config()\n\u001b[0;32m      <a href='vscode-notebook-cell:/e%3A/Projects/Data%20Science/Economic%20data/main.ipynb#W4sZmlsZQ%3D%3D?line=7'>8</a>\u001b[0m config\u001b[39m.\u001b[39mread_dotenv()\n\u001b[0;32m     <a href='vscode-notebook-cell:/e%3A/Projects/Data%20Science/Economic%20data/main.ipynb#W4sZmlsZQ%3D%3D?line=9'>10</a>\u001b[0m \u001b[39m# using the config to access the api key\u001b[39;00m\n",
      "\u001b[1;31mTypeError\u001b[0m: Config.__init__() missing 1 required positional argument: 'repository'"
     ]
    }
   ],
   "source": [
    "# import the API key\n",
    "from fredapi import Fred\n",
    "fred_key = 'put your key here' # I've made mine as a secret\n",
    "\n",
    "# and let's get my secret api key\n",
    "from decouple import Config, Csv\n",
    "config = Config()\n",
    "config.read_dotenv()\n",
    "\n",
    "# using the config to access the api key\n",
    "api_key = config.get('api_key')"
   ]
  },
  {
   "cell_type": "markdown",
   "metadata": {},
   "source": []
  },
  {
   "cell_type": "markdown",
   "metadata": {},
   "source": []
  },
  {
   "cell_type": "markdown",
   "metadata": {},
   "source": [
    "<hr>\n",
    "\n",
    "# Acknowledgement\n",
    "(1) The first inspiration to even work with Fred API was [Rob Mulla YouTube video about Economic Data Analysis](https://youtu.be/R67XuYc9NQ4?si=UCZzfiG8xd9IGv8A)"
   ]
  }
 ],
 "metadata": {
  "kernelspec": {
   "display_name": "Python 3",
   "language": "python",
   "name": "python3"
  },
  "language_info": {
   "codemirror_mode": {
    "name": "ipython",
    "version": 3
   },
   "file_extension": ".py",
   "mimetype": "text/x-python",
   "name": "python",
   "nbconvert_exporter": "python",
   "pygments_lexer": "ipython3",
   "version": "3.11.4"
  },
  "orig_nbformat": 4
 },
 "nbformat": 4,
 "nbformat_minor": 2
}
